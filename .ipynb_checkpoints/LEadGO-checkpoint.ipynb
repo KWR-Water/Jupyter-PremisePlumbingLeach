{
 "cells": [
  {
   "attachments": {},
   "cell_type": "markdown",
   "id": "8647bb6e-2511-43bf-9b21-b39656785adb",
   "metadata": {
    "editable": true,
    "jp-MarkdownHeadingCollapsed": true,
    "slideshow": {
     "slide_type": ""
    },
    "tags": []
   },
   "source": [
    "# The added value of modelling premise plumbing systems\n",
    "\n",
    "## What is a premise plumbing system?\n",
    "\n",
    "Premise plumbing systems is a reference to the “last mile” of water delivery and is an integral part of buildings (residential or commercial). This system comprises of pipes, fixtures, fittings, and other appurtenances used for indoor water supply, heating, and sanitation. This plumbing system is connected to the outdoor drinking water distribution network via a service line. Typically, the owner of the premise is also responsible for the plumbing system within. \n",
    "\n",
    "## The challenges in understanding premise plumbing systems\n",
    "\n",
    "The plumbing system offers challenges in various ways:\n",
    "- There is a diversity in households and thus, also, diversity in the composition of plumbing systems (driven by choices during construction and historical choices of premise owners).\n",
    "- There is seldom availability of documentation for existing plumbing systems. Unlike the distribution network with a centralized owner (drinking water utility), the plumbing system is the domain of individual property owners. \n",
    "- Plumbing systems are hidden behind walls which makes it difficult to extract useful information. For example, which materials are present in the system.\n",
    "- The flow within a plumbing system is intimately linked to the water demand at the premise level. Water consumption is stochastic in nature (water demand is not predictable at every instant, but its statistics can be estimated). This means that water usage/flow is intermittent with multiple periods of standstill.\n",
    "\n",
    "## The role of modelling in understanding premise plumbing systems better\n",
    "\n",
    "The ultimate goal of a water distribution system is to ensure that potable and safe drinking water is delivered without any additional risks to consumer health. The quality of drinking water at the tap is decide by the complex interplay between the characteristics of the plumbing and the flow in the system determined by water consumption. The deterioration of water quality can occur either in a microbiological or chemical sense. \n",
    "\n",
    "Doing tests in real households is challenging because of the various unknowns surrounding the plumbing system. A proxy for real plumbing systems are testbeds or experimental facilities at the laboratory scale. A few such testbeds to study phenomena in plumbing systems under controlled conditions already exist. Examples include the Home Plumbing Simulator in the USA and the HomeWaterLab in the Netherlands. \n",
    "\n",
    "Another avenue for researching phenomena in premise plumbing systems is through modelling. A __[recent book](https://doi.org/10.1061/9780784485101)__ summarizes modelling efforts and applications. Modelling offers a bottom-up approach to studying the phenomena taking place in premise plumbing. This is facilitated through the underlying equations that drive the model mechanics. A shortcoming of modelling, however, is that not all phenomena in real systems can be included with the equations, i.e. the modelling will be restricted by the choice of assumptions and simplifications."
   ]
  },
  {
   "cell_type": "markdown",
   "id": "e38b0c09-19ff-4af5-a6c6-7e3c6c29fa14",
   "metadata": {
    "editable": true,
    "slideshow": {
     "slide_type": ""
    },
    "tags": []
   },
   "source": [
    "# **LEadGO** - Mechanistic model for dissolution and propagation of substances through a premise plumbing system\n",
    "A mechanistic model has been developed to study the dissolution and propagation of substances through a premise plumbing systems. The backbones of this model are EPANET/WNTR and (py)SIMDEUM. \n",
    "- __[EPANET](https://www.epa.gov/water-research/epanet)__ is a modelling software that is capable of simulating the hydraulic and water quality behavior in pressurized pipe networks. Examples of hydraulic parameters include flow rate and pressures. Examples of water quality parameters include the age of water or the concentration of a chemical. EPANET is a freely available software with a graphical user interface. __[WNTR](https://usepa.github.io/WNTR/)__ is a freely available python package that also possesses the major functionalities and capabilities of EPANET. Note that EPANET files can also be accessed with text editors such as __[Notepad++](https://notepad-plus-plus.org/)__.\n",
    "- In a plumbing system, the hydraulics are determined by the demand induced by the residents/users/apparatus at the premise level. Water demand is stochastic in nature and its statistics can be captured. The program __[SIMDEUM](https://www.kwrwater.nl/en/tools-producten/simdeum/)__ uses these statistics to create water demand patterns. SIMDEUM is a Matlab program and recently, a python version of SIMDEUM has been introduced – __[pySIMDEUM](https://github.com/kwr-water/pysimdeum)__.\n",
    "\n",
    "The following ingredients are needed to set up the model (as illustrated in the figure below):\n",
    "- Premise plumbing system geometry: The plumbing system is a physical system and can be defined by means of it dimensions (lengths and diameters of pipes). The plumbing system is branched and the branch ends at a consumption point (a point where water is consumed or used). The layout of the geometry is determined by the relative placement of the demand points and the pipe characteristics. The geometry is made on EPANET.  \n",
    "- Water demand: The flow in the plumbing system is driven by the demand generated at the consumption points, which in turn is driven by aspects such as the number of end users and their attitude towards water usage (for example, conscious about water saving). The demand patterns (water demand as function of time) are generated for each consumption point. The demands are generated using SIMDEUM.\n",
    "- Substance dissolution: Substance releasing locations need to be assigned to certain pipes. Substance dissolution in water can be characterized by two parameters – an equilibrium concentration and a dissolution timescale. The equilibrium concentration is the maximum concentration of the substance that can dissolve in the water whereas the dissolution timescale represents how quickly the equilibrium concentration can be achieved. These values can be added to EPANET.\n",
    "\n",
    "<div>\n",
    "<img src=\"Figures/Framework.jpg\" width=\"1000\"/>\n",
    "</div>\n",
    "\n",
    "<div class=\"alert alert-block alert-success\">\n",
    "<b>LEadGO - What's in a a name?: </b> We refer to the abovementioned mechanistic model as LEadGO. Even though the model is applicable for several substances, it was originally developed and used for lead in drinking water. This modelling framework uses building blocks to arrive at the end result, similar to LEGO. In this model lead \"goes\" from the walls (leaching) and \"goes\" towards the demand points (propagation). Eventually, the outputs of this model can be used to determine where lead \"goes\" within the human body. Moreover, the model can be extended to test sampling protocols to detect and localize lead-releasing components, as we eventually want them to \"go\" away.\n",
    "</div>"
   ]
  },
  {
   "cell_type": "markdown",
   "id": "c293b8c7-c8c1-4908-89e5-78543dce01c2",
   "metadata": {
    "jp-MarkdownHeadingCollapsed": true
   },
   "source": [
    "# Prerequisites for application of the program\n",
    "The program is available in the form of a Jupyter notebook with an underlying Python script and relies on several dependencies:\n",
    "- The user is familiar with python. The script is neither accompanied with a user interface nor is it entirely plug-and-play. Installing packages, varying inputs or plotting results will require familiarity with the python environment. \n",
    "- The user has a basic understanding of an EPANET model – for example, the terminology of the basic elements. The EPANET simulations are performed on python using WNTR – an EPANET compatible Python package.\n",
    "- The program currently only simulates the mechanics of substance dissolution/propagation. It means that the generation of input files (geometry of plumbing system and integration of water demand patterns) is a pre-processing step to be taken by the user. Stochastic water demand patterns can then be attached to the consumption points of the plumbing geometry using functions on (py)SIMDEUM.  \n",
    "- The substance dissolution characteristics are to be defined by the user. These values can be determined by values available in scientific literature or by performing experiments with actual pieces of the substance.    \n",
    "\n",
    "<div class=\"alert alert-block alert-info\">\n",
    "<b>Tip:</b> The current program is a first attempt at introducing the mechanistic model to a broader userbase and is thus rather limited in its functionality and user-friendliness. In the following iterations, supported by feedback from users, efforts can be made to make the script more useful and user-friendly. \n",
    "</div>\n",
    "\n",
    "To see what a certain function does or to see a description of its inputs and outputs, please run the command `help(function_name)` where function_name is the name of the function. The cell at the very bottom shows an example."
   ]
  },
  {
   "cell_type": "markdown",
   "id": "782e8f38-7725-4cd3-a8dd-df8b18adf738",
   "metadata": {},
   "source": [
    "# Importing necessary libraries\n",
    "\n",
    "The next cell imports libraries and functions needed to run the program. "
   ]
  },
  {
   "cell_type": "code",
   "execution_count": 1,
   "id": "42f45092-eed1-4e2e-bcc1-e1d122b7b487",
   "metadata": {},
   "outputs": [],
   "source": [
    "from ImportFunctions import *"
   ]
  },
  {
   "attachments": {},
   "cell_type": "markdown",
   "id": "c7285d13-0b45-4069-b4c1-66792af9824d",
   "metadata": {},
   "source": [
    "# Running the script\n",
    "\n",
    "The function `run_model` is the core function to run the model once complete input files (input files with geometry and water demand patterns) are ready. This function runs the model with the trifecta of geometry, water demand, and substance dissolution. This function uses the inputs to calculate substance concentrations at the consumption points. Only the final iteration of the pattern duration is considered. Two files are saved. One wherein the water demand and substance concentrations at all consumption points are stored (“###.npz”). Another wherein all the input parameters are saved for reference (“###Settings.pkl”).\n",
    "\n",
    "<div class=\"alert alert-block alert-info\">\n",
    "<b>Level 1:</b> This is the first level of running the program. This function is sufficient for situations where complete input files available (the geometry of the premise plumbing as well as the water demand patterns). The cell below is a minimal working example based on sample input files.\n",
    "</div>\n",
    "\n",
    "The following inputs necessary to successfully run the program: \n",
    "- **files**: This variable has multiple fields that are related to the files to be analyzed.\n",
    "    - Input Directory: This refers to the directory where all the EPANET input files are present. (EPANET input file = geometry + water demand patterns designated to consumption points). The format is “Directory\\\\Subdirectory\\\\Subsubdirectory\\\\”. \n",
    "    - Input Prefix: This refers to the prefix of the input file names. The recommended naming of the input files is “ABCxx.inp”. “ABC” can be a name of the users choice, for example “Apartment” or “PlumbingInput”. This prefix is followed by “xx” which refers to a two digit number. In case the user chooses to make 25 input files (each input file has same plumbing geometry but variation in water demand patterns), “xx” runs from “01” to “25”.\n",
    "    - Output Directory: This refers to the directory where all the output files will be saved. The format is “Directory\\\\Subdirectory\\\\Subsubdirectory\\\\”.\n",
    "    - Output Prefix: This refers to the prefix of the output file names. The format is “Directory\\\\Subdirectory\\\\Subsubdirectory\\\\XYZ”. Two files will be saved with names “XYZ.npz” and “XYZSettings.pkl”.\n",
    "    - Number of files: This defines the number of input files that will simulated and is related to the suffix for the input files.  \n",
    "- **consumption_properties**: This variable has multiple fields that are related to the generated consumption patterns.\n",
    "    - Consumption Points: This is the list of all nodes (or junctions) that where water is demanded. An EPANET input file has multiple nodes – nodes that are a demand point and nodes that are simply present to connect pipes. Open the EPANET input file and view the list of junctions. Junction names attributed to the demand points are added to this variable with the function `extract_demand_nodes`.\n",
    "    - Pattern Duration [s]: This is the total duration for which water demand patterns have been created. This is a value to be expressed in seconds. \n",
    "    - Pattern Timestep [s]: This refers to the granularity of the water demand patterns, i.e. what is the resolution at which water demand can change. This is a value to be expressed in seconds.\n",
    "    - Pattern Values [-]: This refers to the number of unique values of the pattern and is (Pattern Duration) ÷ (Pattern Timestep). \n",
    "- **time_properties**: This variable has multiple fields that are related to the desired timesteps for the simulations. \n",
    "    - Hydraulic Timestep [s]: This timestep determines how often a hydraulic simulation is performed. Ideally, this should be equal to the timestep used for generating water demand patterns. Hydraulic simulations at a certain timestep are not dependent on the previous timestep. Therefore, the choice here will not affect hydraulic parameters (flow and pressure) but can affect water quality parameters (substance concentration). If this value is greater than either the pattern or report timestep, the hydraulic timestep will be automatically reduced.\n",
    "    - Quality Timestep [s]: This timestep determines the fineness with which water quality simulations are performed. In contrast to hydraulic simulations, water quality simulations at a certain timestep are dependent on the outcomes of the previous step. It is recommended to keep this value lower than the hydraulic timestep (at least with a factor ten). Timesteps have integer values and the lowest possible value is unity. \n",
    "    - Duration [s]: This refers to the total duration of the simulations. It is recommended to choose a value twice the total duration for which water demand patterns are generated. \n",
    "    - Report Timestep [s]: This refers to how often the calculated values are logged.  \n",
    "    - Pattern Timestep [s]: This refers to the granularity of the water demand patterns, i.e. what is the resolution at which water demand can change.\n",
    "- **quality_properties**: This variable has multiple fields regarding the parameters surrounding water quality simulations.\n",
    "    - Parameter: Determines the kind of water quality analysis that is to be performed. The default value for the current script is ‘CHEMICAL’ to simulate substance dissolution and propagation.\n",
    "    - Units: Determines the units for which the chemical concentrations are computed. Acceptable values are ‘mg/L’ and ‘ug/L’.\n",
    "    - Tolerance: Determines the accuracy with which the water quality simulations are performed. If two water parcels have a chemical concentration lower than this value, they are then considered to be equal. The default value is 0.01 (with corresponding units). Lowering this value will lead to increased computational time.\n",
    "    - Diffusivity: This is the molecular diffusivity of the chemical relative to that of chlorine in water. It is used only when mass transfer limitations are considered in pipe wall reactions.\n",
    "- **leaching_properties**: This variable has fields that determines the nature and locations of substance dissolution into water.\n",
    "    - Equilibrium Concentration: This is the equilibrium concentration of the substance in drinking water. The units are equal to the choice in quality_properties.\n",
    "    - Rate [µg/(m2·s)]: This is the rate at which the substance leaches into the drinking water.\n",
    "    - Locations: This is an array of all pipes (or links) where the substance can leach into water.\n",
    "- **factor**: This is a numerical value with which the time and demand properties of simulations are altered. All water demands are reduced by the factor while all timesteps are increased with the same factor. This is necessary to combat the high displacement of water in short pipes (caused by high velocities) which can lead to inaccuracies in water quality computations. Therefore, the timestep for water quality calculations is not adjusted to allow for a greater separation between hydraulic and water quality timescales. The higher the factor, the longer the computational times. Details regarding this are explained in __[this paper](https://doi.org/10.4995/WDSA-CCWI2022.2022.14741)__. \n",
    "\n",
    "<div class=\"alert alert-block alert-info\">\n",
    "<b>Tip:</b> The progress of the function in terms of performing the simulations is visible in the terminal below the cell. The simulations can last from anywhere between minutes to hours depending on the selection of the input parameters. \n",
    "</div>\n",
    "\n"
   ]
  },
  {
   "cell_type": "code",
   "execution_count": 5,
   "id": "c0061b0c-8a9b-44bf-8b7e-8deffc4d8cfd",
   "metadata": {
    "scrolled": true
   },
   "outputs": [],
   "source": [
    "files = {'Input Directory':'Examples\\\\InputsMirjam\\\\',\n",
    "         'Input Prefix':'Example',\n",
    "         'Output Directory':'Examples\\\\Output\\\\',\n",
    "         'Output Prefix':'OutputM',\n",
    "         'Number of files': 10}\n",
    "consumption_properties = {'Pattern Duration':86400*7,\n",
    "                         'Pattern Timestep':10,\n",
    "                         'Pattern Values': 86400*7/10}\n",
    "time_properties = {'Hydraulic Timestep':10, \n",
    "                  'Quality Timestep':1, \n",
    "                  'Duration':86400*14, \n",
    "                  'Report Timestep':10, \n",
    "                  'Pattern Timestep': 10}\n",
    "quality_properties = {'Parameter':'CHEMICAL',\n",
    "                     'Units':'mg/L',\n",
    "                     'Tolerance':0.01,\n",
    "                     'Diffusivity':1}\n",
    "leaching_properties = {'Equilibrium Concentration':85.6/1000.,\n",
    "                      'Rate':0.126,#0.115,\n",
    "                      'Locations':['25']}\n",
    "\n",
    "factor = 1\n",
    "sample_pattern= []\n",
    "mask_pattern = []\n",
    "sample_moments = None"
   ]
  },
  {
   "cell_type": "code",
   "execution_count": 6,
   "id": "45df1bd5-6f47-4737-86e9-cb9b4c1b96b8",
   "metadata": {},
   "outputs": [
    {
     "name": "stdout",
     "output_type": "stream",
     "text": [
      "Processing file 1/10\n",
      "Processing file 2/10\n",
      "Processing file 3/10\n",
      "Processing file 4/10\n",
      "Processing file 5/10\n",
      "Processing file 6/10\n",
      "Processing file 7/10\n",
      "Processing file 8/10\n",
      "Processing file 9/10\n",
      "Processing file 10/10\n",
      "Time elapsed: 99 seconds\n"
     ]
    }
   ],
   "source": [
    "run_model(files,\n",
    "         consumption_properties,\n",
    "         time_properties,quality_properties,\n",
    "         leaching_properties,factor)\n",
    "\n",
    "os.remove('temp.bin')\n",
    "os.remove('temp.inp')\n",
    "os.remove('temp.rpt')"
   ]
  },
  {
   "cell_type": "markdown",
   "id": "cad70b49-9164-47f2-bcd3-31c42999f98f",
   "metadata": {},
   "source": [
    "# Function to populate an input file with water demand patterns from another input file \n",
    "\n",
    "<div class=\"alert alert-block alert-info\">\n",
    "<b>Level 2:</b> A situation could arise where an input file is created with a different premise plumbing system. However, there is a desire to reuse existing water demand patterns (for example, to purely understand the influence of geometry variation on substance concentrations at consumption points). In such a case, it is also possible to simply copy demand patterns from an existing file. \n",
    "</div>\n",
    "\n",
    "The two functions below assist this specific scenario:\n",
    "- copy_demand_from_existing_geometry: This function extracts water demand patterns from a certain set of input files and copies it to another set of files. There is also an option to select \n",
    "- run_model: This function runs the model with the trifecta of geometry, water demand, and substance leaching. This function uses the inputs to calculate substance concentrations at the consumption points. Only the final iteration of the pattern duration is considered. Two files are saved. One wherein the water demand and substance concentrations at all consumption points are stored (“###.npz”). Another wherein all the input parameters are saved for reference (“###Settings.pkl”).\n",
    "\n",
    "The function `minimal_working_example_copy_demand_from_existing_geometry` gives an example of how demand patterns can be copied from one series of files to another. The demand patterns are copied from files in \"Examples/CopyExample/Input\" (old geometry with old water demand patterns) to the files in \"Examples/CopyExample/OutputRaw\" (new geometry with no water demand patterns) and saved in \"Examples/CopyExample/Output\" (new geometry with old water demand patterns). As a result, the size of the files in \"Examples/CopyExample/Output\" changes from 13 KB to 7000 KB. \n",
    "\n",
    "**TOESTEMMING MIRJAM**: VOORBEELD VAN HOMEWATERLAB"
   ]
  },
  {
   "cell_type": "code",
   "execution_count": null,
   "id": "ec28507a-24c3-4c97-81da-263928015c15",
   "metadata": {},
   "outputs": [],
   "source": [
    "minimal_working_example_copy_demand_from_existing_geometry()"
   ]
  },
  {
   "cell_type": "markdown",
   "id": "3619b70f-3b36-49e0-bb0f-c145dc5e36b4",
   "metadata": {},
   "source": [
    "# Loading the simulation results\n",
    "\n",
    "Once the simulations have been completed, the results are saved at the desired location. In order to proceed with processing the results further, the data needs to be loaded back in. This functionality has been kept separate in order to facilitate loading and post-processing previously run simulations without having to rerun them again.\n",
    "\n",
    "This can be performed with the function `load_output` which reads in the results (water demand and substance concentrations) as well as the setting with which the simulations were performed. "
   ]
  },
  {
   "cell_type": "code",
   "execution_count": 7,
   "id": "a432e7c3-8159-46da-8b15-9e3d13bfbba6",
   "metadata": {},
   "outputs": [],
   "source": [
    "demand, water_quality, run_settings = load_output(files['Output Directory']+files['Output Prefix'])"
   ]
  },
  {
   "cell_type": "markdown",
   "id": "e019c7c6-2010-45d1-85d9-d3a9e98849df",
   "metadata": {},
   "source": [
    "# Exporting data in other formats\n",
    "\n",
    "The script thus far has run the simulations and exported data into formats such as `.npz` and `.pkl`. These formats allow for a compact and quick storage of the results. It is, however, not unfathomable that there is a desire to save data in formats that is readily transferable. To facilitate that two functions are available.\n",
    "\n",
    "- npz_to_xlsx: This function converts the NPZ files to XLSX files. This means that the entire time series of the simulations are saved in Excel format. This conversion takes longer and is also the reason it has not been included as a default. The data is saved in sheets with names 'DemXX' or 'QualXX' where XX refers to the number of the input file. \n",
    "- pkl_to_csv: This function rewrites the setting with which the simulations were performed into CSV format."
   ]
  },
  {
   "cell_type": "code",
   "execution_count": null,
   "id": "f9919a32-3fc9-4f93-9a26-700aa33f6a8d",
   "metadata": {},
   "outputs": [],
   "source": [
    "npz_to_xlsx(\"Examples\\\\Output\\\\Output\") "
   ]
  },
  {
   "cell_type": "code",
   "execution_count": null,
   "id": "8ba139ab-1fa6-48e0-b490-78ffabf2bc59",
   "metadata": {},
   "outputs": [],
   "source": [
    "pkl_to_csv(\"Examples\\\\Output\\\\Output\")"
   ]
  },
  {
   "cell_type": "markdown",
   "id": "d3a1c3a0-0251-49fb-be8b-597c5bf36d24",
   "metadata": {},
   "source": [
    "# Computing average concentrations at the consumption points\n",
    "\n",
    "Once the output has been read, the data can be processed in multiple fashions. One such action is to compute the statistics of substance concentrations at the different consumption points. This can be achieved with the function `compute_tap_outputs` which computes the total masses of substance and water across all consumption points. This can help compute the average substance concentration for the duration belonging to each individual input file."
   ]
  },
  {
   "cell_type": "code",
   "execution_count": 8,
   "id": "2a40f4b0-d090-4a43-a6d7-dfdbdd5f5445",
   "metadata": {},
   "outputs": [
    {
     "name": "stdout",
     "output_type": "stream",
     "text": [
      "Average substance concentration at Brtap_1 is 7.5 μg/L\n",
      "Average substance concentration at WC_1 is 4.5 μg/L\n",
      "Average substance concentration at Ktap is 9.0 μg/L\n",
      "Average substance concentration at DW is 6.0 μg/L\n",
      "Average substance concentration at Ktap_H is 5.5 μg/L\n",
      "Average substance concentration at WC_2 is 3.3 μg/L\n",
      "Average substance concentration at Brtap_2 is 5.2 μg/L\n",
      "Average substance concentration at Shower is 0.8 μg/L\n",
      "Average substance concentration at Shower_H is 1.0 μg/L\n",
      "Average substance concentration at Brtap_2_H is 3.5 μg/L\n",
      "Average substance concentration at WM is 2.8 μg/L\n"
     ]
    }
   ],
   "source": [
    "tap_outputs = compute_tap_outputs(demand,water_quality,\n",
    "                              run_settings['TimeProperties']['Pattern Timestep'])\n",
    "for tap in range(len(run_settings['ConsumptionProperties']['ConsumptionPoints'])):\n",
    "    print('Average substance concentration at ' + run_settings['ConsumptionProperties']['ConsumptionPoints'][tap] + ' is ' + str(np.round(np.sum(tap_outputs['TotalSubstance'],axis=1)[tap]/np.sum(tap_outputs['TotalWater'],axis=1)[tap],1)) + ' \\u03BCg/L')"
   ]
  },
  {
   "cell_type": "markdown",
   "id": "a23519d8-cdcd-4c9c-b745-12b3c24292f9",
   "metadata": {},
   "source": [
    "This can further be extended to analyze concentration variations across weeks at a certain consumption point. The example below looks at the average concentration at the kitchen tap (Ktap and Ktap_H). "
   ]
  },
  {
   "cell_type": "code",
   "execution_count": 16,
   "id": "39ae6c1f-3025-4f4e-819e-b2f4362991c1",
   "metadata": {},
   "outputs": [
    {
     "name": "stdout",
     "output_type": "stream",
     "text": [
      "Average substance concentration at kitchen tap in week 1 is 0.74 μg/L\n",
      "Average substance concentration at kitchen tap in week 2 is 0.72 μg/L\n",
      "Average substance concentration at kitchen tap in week 3 is 0.69 μg/L\n",
      "Average substance concentration at kitchen tap in week 4 is 1.01 μg/L\n",
      "Average substance concentration at kitchen tap in week 5 is 0.55 μg/L\n",
      "Average substance concentration at kitchen tap in week 6 is 1.34 μg/L\n",
      "Average substance concentration at kitchen tap in week 7 is 0.5 μg/L\n",
      "Average substance concentration at kitchen tap in week 8 is 0.49 μg/L\n",
      "Average substance concentration at kitchen tap in week 9 is 0.91 μg/L\n",
      "Average substance concentration at kitchen tap in week 10 is 0.95 μg/L\n",
      "Average substance concentration at kitchen tap across all weeks is 0.79 μg/L\n"
     ]
    }
   ],
   "source": [
    "mass_substance = tap_outputs['TotalSubstance']\n",
    "mass_water = tap_outputs['TotalWater']\n",
    "substance_concentration_kitchen_tap = (mass_substance[10,:]+mass_substance[10,:])/(mass_water[10,:]+mass_water[10,:])\n",
    "\n",
    "for week in range(run_settings['Files']['Number of files']):\n",
    "    print('Average substance concentration at kitchen tap in week ' + str(week+1) + ' is ' + str(np.round(substance_concentration_kitchen_tap[week],2)) + ' \\u03BCg/L')\n",
    "print('Average substance concentration at kitchen tap across all weeks is ' + str(np.round(np.mean(substance_concentration_kitchen_tap),2)) + ' \\u03BCg/L')"
   ]
  },
  {
   "cell_type": "markdown",
   "id": "2472db58-d8b3-42dd-b65f-b3109ab7333c",
   "metadata": {},
   "source": [
    "# Additional post-processing to analyze statistics of substance concentrations at a consumption point\n",
    "\n",
    "Other than the mean substance concentrations at the consumption points, other statistics of the substance concentrations can be evaluated too. Two examples are provided which are supported by two functions:\n",
    "\n",
    "- compute_fraction_exceedance: This function evaluates the fraction of the total time for which the substance concentration at the consumption point exceeds a user-defined threshold value. The total time only includes moments at which consumption occurs (i.e. times when there is no consumption do not contribute to the fraction calculation).\n",
    "- compute_CDF: This function arranges the substance concentration values at a select consumption point in ascending order. This helps evaluate the various statistics (such as median and quantiles) of substance concentrations at the consumption point. The consumption point is to be provided using an integer value. Typing `print(run_settings['ConsumptionProperties']['ConsumptionPoints'])` in an empty cell will display the array of consumption points. The index of the consumption point is the integer value to be entered as input to this function. "
   ]
  },
  {
   "cell_type": "code",
   "execution_count": null,
   "id": "1e5f5958-7bae-4ea9-8ee4-8bba8ccf33ec",
   "metadata": {},
   "outputs": [],
   "source": [
    "threshold = 2.5/1000000 \n",
    "fraction_exceedance = 100*compute_fraction_exceedance(demand,water_quality,threshold)\n",
    "\n",
    "for tap in range(len(run_settings['ConsumptionProperties']['ConsumptionPoints'])):\n",
    "    print('The concentration at ' + run_settings['ConsumptionProperties']['ConsumptionPoints'][tap] + ' exceeds ' + str(threshold*1000000) + ' \\u03BCg/L ' + str(np.round(fraction_exceedance[tap],1)) + '% of time.')"
   ]
  },
  {
   "cell_type": "code",
   "execution_count": null,
   "id": "bcec4623-aeba-457b-b602-f9dbeb3cbfc7",
   "metadata": {},
   "outputs": [],
   "source": [
    "CDF_properties = compute_CDF(demand, water_quality, 2, plot=True)"
   ]
  },
  {
   "cell_type": "markdown",
   "id": "d2a1f4fb-5779-42ec-ac9f-9f56fd3e8601",
   "metadata": {},
   "source": [
    "# Plotting time series of substance concentrations at a consumption point\n",
    "\n",
    "Presenting the time series of substance concentrations at a consumption point is an instructive manner to demonstrate the role of stochastic water demand on the substance concentration dynamics. This can be achieved with the function `plot_demand_and_quality`."
   ]
  },
  {
   "cell_type": "code",
   "execution_count": 7,
   "id": "cd8f1fdb-b828-47cc-8b07-619a6618d4a5",
   "metadata": {
    "scrolled": true
   },
   "outputs": [
    {
     "data": {
      "image/png": "[encoded data removed]",
      "text/plain": [
       "<Figure size 640x480 with 2 Axes>"
      ]
     },
     "metadata": {},
     "output_type": "display_data"
    }
   ],
   "source": [
    "plot_demand_and_quality(demand, water_quality, 2, 1, format_time='Days',xlims=[0,7],font_size=12)\n",
    "plot_demand_and_quality(demand, water_quality, 2, 1, format_time='HMS',xlims=[0,1],xticks=[0,0.25,0.5,0.75,1],font_size=12)"
   ]
  },
  {
   "cell_type": "markdown",
   "id": "a6443d7c-b385-4b1b-a43a-b62cbf94a1e2",
   "metadata": {},
   "source": [
    "<a id=\"notes\"></a>\n",
    "# Additional notes\n",
    "\n",
    "In this cell, a few items are explained in more detail and pertain to slightly more technical topics.\n",
    "1. SIMDEUM is a program based on MATLAB whereas pySIMDEUM is based on python. Access to SIMDEUM can be attained by contacting KWR Water Research Institute (https://www.kwrwater.nl/contact/). pySIMDEUM is open-source and is available freely [4]. A detailed user manual for SIMDEUM is also available [3]. \n",
    "2. If the duration of the simulations is 14 days while the duration of the generated patterns is only 7 days, the simulations are run for 14 days and the results for the final 7 days is stored. There is a difference in the results of the first and second 7 days because of differing initial conditions (first 7 days – no substances in system initially; second 7 days – substances in system already).\n",
    "3. Please retain this naming format as the loading of the output files is hardcoded, i.e., please do not change the name of the file afterwards."
   ]
  },
  {
   "cell_type": "code",
   "execution_count": null,
   "id": "e18a233d-7241-45da-8cae-bf6260628c14",
   "metadata": {},
   "outputs": [],
   "source": [
    "help(plot_demand_and_quality)"
   ]
  },
  {
   "cell_type": "markdown",
   "id": "c47db06c-9347-4909-8085-0fb0232f279a",
   "metadata": {},
   "source": [
    "# Desired additions for future iterations of this program\n",
    "\n",
    "- Integration of pySIMDEUM: In the current version, it is assumed that the user already has access to water demand patterns\n",
    "- Option to mask existing water demand patterns:\n",
    "- Option to add moments at which samples are collected at a certain consumption point: "
   ]
  }
 ],
 "metadata": {
  "kernelspec": {
   "display_name": "Python 3 (ipykernel)",
   "language": "python",
   "name": "python3"
  },
  "language_info": {
   "codemirror_mode": {
    "name": "ipython",
    "version": 3
   },
   "file_extension": ".py",
   "mimetype": "text/x-python",
   "name": "python",
   "nbconvert_exporter": "python",
   "pygments_lexer": "ipython3",
   "version": "3.9.20"
  }
 },
 "nbformat": 4,
 "nbformat_minor": 5
}
